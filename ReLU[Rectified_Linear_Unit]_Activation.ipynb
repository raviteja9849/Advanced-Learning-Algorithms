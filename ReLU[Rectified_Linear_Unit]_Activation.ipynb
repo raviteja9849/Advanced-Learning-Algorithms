{
  "cells": [
    {
      "cell_type": "markdown",
      "metadata": {
        "id": "view-in-github",
        "colab_type": "text"
      },
      "source": [
        "<a href=\"https://colab.research.google.com/github/raviteja9849/Advanced-Learning-Algorithms/blob/main/ReLU%5BRectified_Linear_Unit%5D_Activation.ipynb\" target=\"_parent\"><img src=\"https://colab.research.google.com/assets/colab-badge.svg\" alt=\"Open In Colab\"/></a>"
      ]
    },
    {
      "cell_type": "markdown",
      "metadata": {
        "id": "SG0P6GzLGOZ0"
      },
      "source": [
        "# Optional Lab - ReLU activation"
      ],
      "id": "SG0P6GzLGOZ0"
    },
    {
      "cell_type": "code",
      "execution_count": null,
      "metadata": {
        "id": "OceHaLv0GOZ5"
      },
      "outputs": [],
      "source": [
        "import numpy as np\n",
        "import matplotlib.pyplot as plt\n",
        "from matplotlib.gridspec import GridSpec\n",
        "plt.style.use('./deeplearning.mplstyle')\n",
        "import tensorflow as tf\n",
        "from tensorflow.keras.models import Sequential\n",
        "from tensorflow.keras.layers import Dense, LeakyReLU\n",
        "from tensorflow.keras.activations import linear, relu, sigmoid\n",
        "%matplotlib widget\n",
        "from matplotlib.widgets import Slider\n",
        "from lab_utils_common import dlc\n",
        "from autils import plt_act_trio\n",
        "from lab_utils_relu import *\n",
        "import warnings\n",
        "warnings.simplefilter(action='ignore', category=UserWarning)\n"
      ],
      "id": "OceHaLv0GOZ5"
    },
    {
      "cell_type": "markdown",
      "metadata": {
        "id": "eogK7bR-GOZ8"
      },
      "source": [
        "<a name=\"2\"></a>\n",
        "## 2 - ReLU Activation\n",
        "This week, a new activation was introduced, the Rectified Linear Unit (ReLU). \n",
        "$$ a = max(0,z) \\quad\\quad\\text {# ReLU function} $$"
      ],
      "id": "eogK7bR-GOZ8"
    },
    {
      "cell_type": "code",
      "execution_count": null,
      "metadata": {
        "id": "xpnz5nbeGOZ9",
        "outputId": "ac4b882d-95c4-47d9-b838-15d9bba1c554",
        "colab": {
          "referenced_widgets": [
            "e8631645d39248c7bba85e5608139136"
          ]
        }
      },
      "outputs": [
        {
          "data": {
            "application/vnd.jupyter.widget-view+json": {
              "model_id": "e8631645d39248c7bba85e5608139136",
              "version_major": 2,
              "version_minor": 0
            },
            "text/plain": [
              "Canvas(toolbar=Toolbar(toolitems=[('Home', 'Reset original view', 'home', 'home'), ('Back', 'Back to previous …"
            ]
          },
          "metadata": {},
          "output_type": "display_data"
        }
      ],
      "source": [
        "plt_act_trio()"
      ],
      "id": "xpnz5nbeGOZ9"
    },
    {
      "cell_type": "markdown",
      "metadata": {
        "id": "02Jy4-41GOZ-"
      },
      "source": [
        "<img align=\"right\" src=\"./images/C2_W2_ReLu.png\"     style=\" width:380px; padding: 10px 20px; \" >\n",
        "The example from the lecture on the right shows an application of the ReLU. In this example, the derived \"awareness\" feature is not binary but has a continuous range of values. The sigmoid is best for on/off or binary situations. The ReLU provides a continuous linear relationship. Additionally it has an 'off' range where the output is zero.     \n",
        "The \"off\" feature makes the ReLU a Non-Linear activation. Why is this needed? Let's examine this below. "
      ],
      "id": "02Jy4-41GOZ-"
    },
    {
      "cell_type": "markdown",
      "metadata": {
        "id": "a7KILi2GGOZ_"
      },
      "source": [
        "### Why Non-Linear Activations?  \n",
        "<img align=\"left\" src=\"./images/C2_W2_ReLU_Graph.png\"     style=\" width:250px; padding: 10px 20px; \" > The function shown is composed of linear pieces (piecewise linear). The slope is consistent during the linear portion and then changes abruptly at transition points. At transition points, a new linear function is added which, when added to the existing function, will produce the new slope. The new function is added at transition point but does not contribute to the output prior to that point. The non-linear activation function is responsible for disabling the input prior to and sometimes after the transition points. The following exercise provides a more tangible example."
      ],
      "id": "a7KILi2GGOZ_"
    },
    {
      "cell_type": "markdown",
      "metadata": {
        "id": "CH_ey3JnGOaA"
      },
      "source": [
        "The exercise will use the network below in a regression problem where you must model a piecewise linear target :\n",
        "<img align=\"center\" src=\"./images/C2_W2_ReLU_Network.png\"     style=\" width:650px; padding: 10px 20px; \">  \n",
        "The network has 3 units in the first layer. Each is required to form the target. Unit 0 is pre-programmed and fixed to map the first segment. You will modify weights and biases in unit 1 and 2 to model the 2nd and 3rd segment. The output unit is also fixed and simply sums the outputs of the first layer.  \n",
        "\n",
        "Using the sliders below, modify weights and bias to match the target. \n",
        "Hints: Start with `w1` and `b1` and leave `w2` and `b2` zero until you match the 2nd segment. Clicking rather than sliding is quicker.  If you have trouble, don't worry, the text below will describe this in more detail."
      ],
      "id": "CH_ey3JnGOaA"
    },
    {
      "cell_type": "code",
      "execution_count": null,
      "metadata": {
        "id": "XqZvDFiAGOaA",
        "outputId": "3345f345-22a8-40b5-ab7a-8f67aa9a4f79",
        "colab": {
          "referenced_widgets": [
            "d89e83fedc19457bb6a7267d3ba2f530"
          ]
        }
      },
      "outputs": [
        {
          "data": {
            "application/vnd.jupyter.widget-view+json": {
              "model_id": "d89e83fedc19457bb6a7267d3ba2f530",
              "version_major": 2,
              "version_minor": 0
            },
            "text/plain": [
              "Canvas(toolbar=Toolbar(toolitems=[('Home', 'Reset original view', 'home', 'home'), ('Back', 'Back to previous …"
            ]
          },
          "metadata": {},
          "output_type": "display_data"
        }
      ],
      "source": [
        "_ = plt_relu_ex()"
      ],
      "id": "XqZvDFiAGOaA"
    },
    {
      "cell_type": "markdown",
      "metadata": {
        "id": "L-6tK_PVGOaB"
      },
      "source": [
        " \n",
        "The goal of this exercise is to appreciate how the ReLU's non-linear behavior provides the needed ability to turn functions off until they are needed. Let's see how this worked in this example.\n",
        "<img align=\"right\" src=\"./images/C2_W2_ReLU_Plot.png\"     style=\" width:600px; padding: 10px 20px; \"> \n",
        "The plots on the right contain the output of the units in the first layer.   \n",
        "Starting at the top, unit 0 is responsible for the first segment marked with a 1. Both the linear function $z$ and the function following the ReLU $a$ are shown. You can see that the ReLU cuts off the function after the interval [0,1]. This is important as it prevents Unit 0 from interfering with the following segment. \n",
        "\n",
        "Unit 1 is responsible for the 2nd segment. Here the ReLU kept this unit quiet until after x is 1. Since the first unit is not contributing, the slope for unit 1, $w^{[1]}_1$, is just the slope of the target line. The bias must be adjusted to keep the output negative until x has reached 1. Note how the contribution of Unit 1 extends to the 3rd segment as well.\n",
        "\n",
        "Unit 2 is responsible for the 3rd segment. The ReLU again zeros the output until x reaches the right value.The slope of the unit, $w^{[1]}_2$, must be set so that the sum of unit 1 and 2 have the desired slope. The bias is again adjusted to keep the output negative until x has reached 2. \n",
        "\n",
        "The \"off\" or disable feature  of the ReLU activation enables models to stitch together linear segments to model complex non-linear functions.\n"
      ],
      "id": "L-6tK_PVGOaB"
    },
    {
      "cell_type": "markdown",
      "metadata": {
        "id": "kMENJxGkGOaC"
      },
      "source": [
        "## Congratulations!\n",
        "You are now more familiar with the ReLU and the importance of its non-linear behavior."
      ],
      "id": "kMENJxGkGOaC"
    },
    {
      "cell_type": "code",
      "execution_count": null,
      "metadata": {
        "id": "35QYNg3rGOaD"
      },
      "outputs": [],
      "source": [],
      "id": "35QYNg3rGOaD"
    }
  ],
  "metadata": {
    "kernelspec": {
      "display_name": "Python 3",
      "language": "python",
      "name": "python3"
    },
    "language_info": {
      "codemirror_mode": {
        "name": "ipython",
        "version": 3
      },
      "file_extension": ".py",
      "mimetype": "text/x-python",
      "name": "python",
      "nbconvert_exporter": "python",
      "pygments_lexer": "ipython3",
      "version": "3.7.6"
    },
    "colab": {
      "provenance": [],
      "include_colab_link": true
    }
  },
  "nbformat": 4,
  "nbformat_minor": 5
}